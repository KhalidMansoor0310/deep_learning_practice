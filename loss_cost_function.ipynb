{
 "cells": [
  {
   "cell_type": "code",
   "execution_count": 1,
   "id": "04f7f228",
   "metadata": {},
   "outputs": [],
   "source": [
    "import numpy as np"
   ]
  },
  {
   "cell_type": "code",
   "execution_count": 2,
   "id": "0ecd6880",
   "metadata": {},
   "outputs": [],
   "source": [
    "y_true = np.array([0.30,0.7,1,0,0.5])\n",
    "y_predicted = np.array([1,1,0,0,1])\n",
    "#due to zip function it will take one value at a time from both arrays"
   ]
  },
  {
   "cell_type": "code",
   "execution_count": 9,
   "id": "1166f604",
   "metadata": {},
   "outputs": [],
   "source": [
    "def AbsoluteError(y_true,y_predicted):\n",
    "    total_error = 0\n",
    "    for yt,yp in zip(y_true,y_predicted):\n",
    "        total_error = total_error + abs(yt-yp)\n",
    "        \n",
    "    print(f'The total error is {total_error}')\n",
    "    mean_absolute_error = total_error/len(y_true)\n",
    "    print(f'the MAE is :{mean_absolute_error}')"
   ]
  },
  {
   "cell_type": "code",
   "execution_count": 10,
   "id": "43723b32",
   "metadata": {
    "scrolled": true
   },
   "outputs": [
    {
     "name": "stdout",
     "output_type": "stream",
     "text": [
      "The total error is 2.5\n",
      "the MAE is :0.5\n"
     ]
    }
   ],
   "source": [
    "AbsoluteError(y_true,y_predicted)"
   ]
  },
  {
   "cell_type": "code",
   "execution_count": 12,
   "id": "ad83302d",
   "metadata": {},
   "outputs": [
    {
     "data": {
      "text/plain": [
       "array([0.7, 0.3, 1. , 0. , 0.5])"
      ]
     },
     "execution_count": 12,
     "metadata": {},
     "output_type": "execute_result"
    }
   ],
   "source": [
    "np.abs(y_true-y_predicted)"
   ]
  },
  {
   "cell_type": "code",
   "execution_count": 11,
   "id": "591548b3",
   "metadata": {},
   "outputs": [
    {
     "data": {
      "text/plain": [
       "0.5"
      ]
     },
     "execution_count": 11,
     "metadata": {},
     "output_type": "execute_result"
    }
   ],
   "source": [
    "# lets do all work using numpy functions\n",
    "np.mean(np.abs(y_true-y_predicted))"
   ]
  },
  {
   "cell_type": "code",
   "execution_count": null,
   "id": "cdf5605d",
   "metadata": {},
   "outputs": [],
   "source": []
  }
 ],
 "metadata": {
  "kernelspec": {
   "display_name": "Python 3 (ipykernel)",
   "language": "python",
   "name": "python3"
  },
  "language_info": {
   "codemirror_mode": {
    "name": "ipython",
    "version": 3
   },
   "file_extension": ".py",
   "mimetype": "text/x-python",
   "name": "python",
   "nbconvert_exporter": "python",
   "pygments_lexer": "ipython3",
   "version": "3.9.7"
  }
 },
 "nbformat": 4,
 "nbformat_minor": 5
}
